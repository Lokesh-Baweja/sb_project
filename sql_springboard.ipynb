{
 "cells": [
  {
   "cell_type": "code",
   "execution_count": 145,
   "metadata": {},
   "outputs": [],
   "source": [
    "from sqlalchemy import create_engine\n",
    "import pandas as pd\n",
    "engine = create_engine('sqlite:///data.sqlite')\n",
    "#connect to the database\n",
    "con = engine.connect()\n",
    "# cursor  \n",
    "\n",
    "\n",
    "\n",
    "  \n"
   ]
  },
  {
   "cell_type": "code",
   "execution_count": 146,
   "metadata": {},
   "outputs": [],
   "source": [
    "### Q1: Some of the facilities charge a fee to members, but some do not.\n",
    "##Please list the names of the facilities that do.###\n"
   ]
  },
  {
   "cell_type": "code",
   "execution_count": 147,
   "metadata": {},
   "outputs": [
    {
     "name": "stdout",
     "output_type": "stream",
     "text": [
      "[]\n",
      "                0    1\n",
      "0  Massage Room 1  9.9\n",
      "1  Massage Room 2  9.9\n",
      "2    Squash Court  3.5\n",
      "3  Tennis Court 1  5.0\n",
      "4  Tennis Court 2  5.0\n"
     ]
    }
   ],
   "source": [
    "sql_cmd = \"\"\"\n",
    "SELECT name, membercost\n",
    "FROM Facilities\n",
    "WHERE (SELECT CAST(membercost AS float)) > 0.0\n",
    "GROUP BY name\n",
    "LIMIT 0 , 30 \"\"\"\n",
    "rs = con.execute(sql_cmd)\n",
    "df = pd.DataFrame(rs.fetchall())  \n",
    "print (rs1.fetchall())\n",
    "print (df)"
   ]
  },
  {
   "cell_type": "code",
   "execution_count": 148,
   "metadata": {},
   "outputs": [
    {
     "name": "stdout",
     "output_type": "stream",
     "text": [
      "   0\n",
      "0  4\n"
     ]
    }
   ],
   "source": [
    "###/* Q2: How many facilities do not charge a fee to members? */\n",
    "sql_cmd1 = \"\"\"\n",
    "SELECT COUNT(name)\n",
    "FROM Facilities\n",
    "WHERE (SELECT CAST(membercost AS float)) = 0.0\"\"\"\n",
    "rs = con.execute(sql_cmd1)\n",
    "df = pd.DataFrame(rs.fetchall())  \n",
    "print (df)\n"
   ]
  },
  {
   "cell_type": "code",
   "execution_count": 149,
   "metadata": {},
   "outputs": [
    {
     "name": "stdout",
     "output_type": "stream",
     "text": [
      "[('0', 'Tennis Court 1', '5.0', '200'), ('1', 'Tennis Court 2', '5.0', '200'), ('2', 'Badminton Court', '0.0', '50'), ('3', 'Table Tennis', '0.0', '10'), ('4', 'Massage Room 1', '9.9', '3000'), ('5', 'Massage Room 2', '9.9', '3000'), ('6', 'Squash Court', '3.5', '80'), ('7', 'Snooker Table', '0.0', '15'), ('8', 'Pool Table', '0.0', '15')]\n"
     ]
    }
   ],
   "source": [
    "#/* Q3: How can you produce a list of facilities that charge a fee to members,\n",
    "#where the fee is less than 20% of the facility's monthly maintenance cost?\n",
    "#Return the facid, facility name, member cost, and monthly maintenance of the\n",
    "#facilities in question. */\n",
    "\n",
    "sql_cmd2 = \"\"\"\n",
    "SELECT facid, name, membercost, monthlymaintenance\n",
    "FROM Facilities\n",
    "WHERE (SELECT CAST(membercost as float)) < (SELECT CAST(monthlymaintenance as float)) * 0.2 \"\"\"\n",
    "rs = con.execute(sql_cmd2)\n",
    "print (rs.fetchall())\n"
   ]
  },
  {
   "cell_type": "code",
   "execution_count": 150,
   "metadata": {},
   "outputs": [],
   "source": [
    "#/* Q4: How can you retrieve the details of facilities with ID 1 and 5?\n",
    "#Write the query without using the OR operator. */\n",
    "sql_cmd3 = \"\"\"\n",
    "SELECT *\n",
    "FROM Facilities\n",
    "WHERE facid IN (1, 5)\n",
    "\"\"\"\n",
    "\n",
    "#/* Q5: How can you produce a list of facilities, with each labelled as\n",
    "#'cheap' or 'expensive', depending on if their monthly maintenance cost is\n",
    "#more than $100? Return the name and monthly maintenance of the facilities\n",
    "#in question. */\n",
    "sql_cmd4 = \"\"\"\n",
    "SELECT name, monthlymaintenance,\n",
    "  CASE WHEN monthlymaintenance > 100 THEN 'expensive'\n",
    "  ELSE 'cheap' END AS maintenance_cheap_or_expensive\n",
    "FROM Facilities\"\"\"\n",
    "\n",
    "\n",
    "#/* Q6: You'd like to get the first and last name of the last member(s)\n",
    "#who signed up. Do not use the LIMIT clause for your solution. */\n",
    "\n",
    "sql_cmd5= \"\"\"SELECT firstname, surname, joindate\n",
    "FROM Members\n",
    "WHERE joindate = (SELECT MAX(joindate) FROM Members)\"\"\"\n",
    "\n",
    "\n",
    "#/* Q7: How can you produce a list of all members who have used a tennis court?\n",
    "#Include in your output the name of the court, and the name of the member\n",
    "#formatted as a single column. Ensure no duplicate data, and order by\n",
    "#the member name. */\n",
    "sql_cmd6=\"\"\"SELECT Facilities.name, CONCAT(Members.firstname, ' ', Members.surname) AS member_name\n",
    "FROM Bookings\n",
    "INNER JOIN Members ON Bookings.memid = Members.memid\n",
    "INNER JOIN Facilities ON Bookings.facid = Facilities.facid\n",
    "WHERE Facilities.name LIKE 'Tennis Court%'\n",
    "GROUP BY Facilities.name, Members.firstname, Members.surname\n",
    "ORDER BY Members.firstname\"\"\"\n",
    "\n",
    "#/* Q8: How can you produce a list of bookings on the day of 2012-09-14 which\n",
    "#will cost the member (or guest) more than $30? Remember that guests have\n",
    "#different costs to members (the listed costs are per half-hour 'slot'), and\n",
    "#the guest user's ID is always 0. Include in your output the name of the\n",
    "#facility, the name of the member formatted as a single column, and the cost.\n",
    "#Order by descending cost, and do not use any subqueries. */\n",
    "sql_cmd7=\"\"\"SELECT Facilities.name,\n",
    "  CONCAT(Members.firstname, ' ', Members.surname) AS member_name,\n",
    "  CASE WHEN Members.memid !=0\n",
    "    THEN Bookings.slots * Facilities.membercost\n",
    "    ELSE Bookings.slots * Facilities.guestcost\n",
    "    END AS booking_cost\n",
    "FROM Bookings\n",
    "INNER JOIN Members ON Bookings.memid = Members.memid\n",
    "INNER JOIN Facilities ON Bookings.facid = Facilities.facid\n",
    "WHERE Bookings.starttime LIKE '2012-09-14%'\n",
    "  AND(\n",
    "    (Bookings.memid != 0 AND Bookings.slots * Facilities.membercost > 30)\n",
    "    OR (Bookings.memid = 0 AND Bookings.slots * Facilities.guestcost > 30)\n",
    "  )\n",
    "ORDER BY booking_cost DESC\"\"\"\n",
    "\n",
    "#/* Q9: This time, produce the same result as in Q8, but using a subquery. */\n",
    "\n",
    "sql_cmd8=\"\"\"SELECT *\n",
    "FROM (\n",
    "  SELECT Facilities.name,\n",
    "  CONCAT(Members.firstname, ' ', Members.surname) AS member_name,\n",
    "  CASE WHEN Members.memid !=0\n",
    "    THEN Bookings.slots * Facilities.membercost\n",
    "    ELSE Bookings.slots * Facilities.guestcost\n",
    "    END AS booking_cost\n",
    "  FROM Bookings\n",
    "  INNER JOIN Members ON Bookings.memid = Members.memid\n",
    "  INNER JOIN Facilities ON Bookings.facid = Facilities.facid\n",
    "  WHERE Bookings.starttime LIKE '2012-09-14%'\n",
    "  ) sub\n",
    "WHERE sub.booking_cost > 30\n",
    "ORDER BY sub.booking_cost DESC\"\"\"\n",
    "\n",
    "#/* Q10: Produce a list of facilities with a total revenue less than 1000.\n",
    "#The output of facility name and total revenue, sorted by revenue. Remember\n",
    "#that there's a different cost for guests and members! */\n",
    "\n",
    "sql_cmd9=\"\"\"SELECT facility, total_revenue\n",
    "FROM (\n",
    "  SELECT Facilities.name AS facility,\n",
    "  SUM(\n",
    "    CASE WHEN Bookings.memid !=0\n",
    "    THEN Bookings.slots * Facilities.membercost\n",
    "    ELSE Bookings.slots * Facilities.guestcost END) AS total_revenue\n",
    "  FROM Facilities\n",
    "  INNER JOIN Bookings ON Bookings.facid = Facilities.facid\n",
    "  GROUP BY Facilities.name\n",
    ") AS facility_total_revenue\n",
    "WHERE total_revenue < 1000\n",
    "ORDER BY total_revenue\"\"\""
   ]
  }
 ],
 "metadata": {
  "kernelspec": {
   "display_name": "Python 3",
   "language": "python",
   "name": "python3"
  },
  "language_info": {
   "codemirror_mode": {
    "name": "ipython",
    "version": 3
   },
   "file_extension": ".py",
   "mimetype": "text/x-python",
   "name": "python",
   "nbconvert_exporter": "python",
   "pygments_lexer": "ipython3",
   "version": "3.6.9"
  }
 },
 "nbformat": 4,
 "nbformat_minor": 2
}
