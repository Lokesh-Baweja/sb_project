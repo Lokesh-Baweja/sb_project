{
 "cells": [
  {
   "cell_type": "code",
   "execution_count": 1,
   "metadata": {},
   "outputs": [
    {
     "name": "stdout",
     "output_type": "stream",
     "text": [
      "Collecting sqlalchemy\n",
      "  Using cached https://files.pythonhosted.org/packages/7f/84/263ba21a9f2725a1b7236823bd732d80e23a4d79b2b121060b3ce039fd7b/SQLAlchemy-1.3.18-cp36-cp36m-manylinux1_x86_64.whl\n",
      "Installing collected packages: sqlalchemy\n",
      "Successfully installed sqlalchemy-1.3.18\n"
     ]
    }
   ],
   "source": [
    "!pip3 install sqlalchemy\n",
    "from sqlalchemy import create_engine\n",
    "import pandas as pd\n",
    "engine = create_engine('sqlite:///data.sqlite')\n",
    "#connect to the database\n",
    "con = engine.connect()\n",
    "# cursor  \n",
    "\n",
    "\n",
    "\n",
    "  \n"
   ]
  },
  {
   "cell_type": "code",
   "execution_count": 2,
   "metadata": {},
   "outputs": [],
   "source": [
    "### Q1: Some of the facilities charge a fee to members, but some do not.\n",
    "##Please list the names of the facilities that do.###\n"
   ]
  },
  {
   "cell_type": "code",
   "execution_count": 3,
   "metadata": {},
   "outputs": [
    {
     "name": "stdout",
     "output_type": "stream",
     "text": [
      "[('Massage Room 1', '9.9'), ('Massage Room 2', '9.9'), ('Squash Court', '3.5'), ('Tennis Court 1', '5.0'), ('Tennis Court 2', '5.0')]\n"
     ]
    }
   ],
   "source": [
    "sql_cmd = \"\"\"\n",
    "SELECT name, membercost\n",
    "FROM Facilities\n",
    "WHERE (SELECT CAST(membercost AS float)) > 0.0\n",
    "GROUP BY name\n",
    "LIMIT 0 , 30 \"\"\"\n",
    "rs = con.execute(sql_cmd)\n",
    "print (rs.fetchall())\n"
   ]
  },
  {
   "cell_type": "code",
   "execution_count": 4,
   "metadata": {},
   "outputs": [
    {
     "name": "stdout",
     "output_type": "stream",
     "text": [
      "[(4,)]\n"
     ]
    }
   ],
   "source": [
    "###/* Q2: How many facilities do not charge a fee to members? */\n",
    "sql_cmd1 = \"\"\"\n",
    "SELECT COUNT(name)\n",
    "FROM Facilities\n",
    "WHERE (SELECT CAST(membercost AS float)) = 0.0\"\"\"\n",
    "rs = con.execute(sql_cmd1)\n",
    "print (rs.fetchall())\n"
   ]
  },
  {
   "cell_type": "code",
   "execution_count": 5,
   "metadata": {},
   "outputs": [
    {
     "name": "stdout",
     "output_type": "stream",
     "text": [
      "[('0', 'Tennis Court 1', '5.0', '200'), ('1', 'Tennis Court 2', '5.0', '200'), ('2', 'Badminton Court', '0.0', '50'), ('3', 'Table Tennis', '0.0', '10'), ('4', 'Massage Room 1', '9.9', '3000'), ('5', 'Massage Room 2', '9.9', '3000'), ('6', 'Squash Court', '3.5', '80'), ('7', 'Snooker Table', '0.0', '15'), ('8', 'Pool Table', '0.0', '15')]\n"
     ]
    }
   ],
   "source": [
    "#/* Q3: How can you produce a list of facilities that charge a fee to members,\n",
    "#where the fee is less than 20% of the facility's monthly maintenance cost?\n",
    "#Return the facid, facility name, member cost, and monthly maintenance of the\n",
    "#facilities in question. */\n",
    "\n",
    "sql_cmd2 = \"\"\"\n",
    "SELECT facid, name, membercost, monthlymaintenance\n",
    "FROM Facilities\n",
    "WHERE (SELECT CAST(membercost as float)) < (SELECT CAST(monthlymaintenance as float)) * 0.2 \"\"\"\n",
    "rs = con.execute(sql_cmd2)\n",
    "print (rs.fetchall())\n"
   ]
  },
  {
   "cell_type": "code",
   "execution_count": 6,
   "metadata": {},
   "outputs": [
    {
     "name": "stdout",
     "output_type": "stream",
     "text": [
      "[('1', 'Tennis Court 2', '5.0', '25.0', '8000', '200'), ('5', 'Massage Room 2', '9.9', '80.0', '4000', '3000')]\n"
     ]
    }
   ],
   "source": [
    "#/* Q4: How can you retrieve the details of facilities with ID 1 and 5?\n",
    "#Write the query without using the OR operator. */\n",
    "sql_cmd3 = \"\"\"\n",
    "SELECT *\n",
    "FROM Facilities\n",
    "WHERE (SELECT CAST(facid as int)) IN (1, 5)\n",
    "\"\"\"\n",
    "rs = con.execute(sql_cmd3)\n",
    "print (rs.fetchall())\n"
   ]
  },
  {
   "cell_type": "code",
   "execution_count": 7,
   "metadata": {},
   "outputs": [
    {
     "name": "stdout",
     "output_type": "stream",
     "text": [
      "[('Tennis Court 1', '200', 'expensive'), ('Tennis Court 2', '200', 'expensive'), ('Badminton Court', '50', 'cheap'), ('Table Tennis', '10', 'cheap'), ('Massage Room 1', '3000', 'expensive'), ('Massage Room 2', '3000', 'expensive'), ('Squash Court', '80', 'cheap'), ('Snooker Table', '15', 'cheap'), ('Pool Table', '15', 'cheap')]\n"
     ]
    }
   ],
   "source": [
    "#/* Q5: How can you produce a list of facilities, with each labelled as\n",
    "#'cheap' or 'expensive', depending on if their monthly maintenance cost is\n",
    "#more than $100? Return the name and monthly maintenance of the facilities\n",
    "#in question. */\n",
    "sql_cmd4 = \"\"\"\n",
    "SELECT name, monthlymaintenance,\n",
    "  CASE WHEN (SELECT CAST(monthlymaintenance as float)) > 100.0 THEN 'expensive'\n",
    "  ELSE 'cheap' END AS maintenance_cheap_or_expensive\n",
    "FROM Facilities\"\"\"\n",
    "rs = con.execute(sql_cmd4)\n",
    "print (rs.fetchall())"
   ]
  },
  {
   "cell_type": "code",
   "execution_count": 8,
   "metadata": {},
   "outputs": [
    {
     "name": "stdout",
     "output_type": "stream",
     "text": [
      "[('Darren', 'Smith', '2012-09-26 18:08:45')]\n"
     ]
    }
   ],
   "source": [
    "#/* Q6: You'd like to get the first and last name of the last member(s)\n",
    "#who signed up. Do not use the LIMIT clause for your solution. */\n",
    "\n",
    "sql_cmd5= \"\"\"SELECT firstname, surname, joindate\n",
    "FROM Members\n",
    "WHERE joindate = (SELECT MAX(joindate) FROM Members)\"\"\"\n",
    "rs = con.execute(sql_cmd5)\n",
    "print (rs.fetchall())"
   ]
  },
  {
   "cell_type": "code",
   "execution_count": 9,
   "metadata": {},
   "outputs": [
    {
     "name": "stdout",
     "output_type": "stream",
     "text": [
      "[('Tennis Court 1', 'AnneBaker'), ('Tennis Court 2', 'AnneBaker'), ('Tennis Court 1', 'BurtonTracy'), ('Tennis Court 2', 'BurtonTracy'), ('Tennis Court 1', 'CharlesOwen'), ('Tennis Court 2', 'CharlesOwen'), ('Tennis Court 2', 'DarrenSmith'), ('Tennis Court 1', 'DavidFarrell'), ('Tennis Court 1', 'DavidJones'), ('Tennis Court 1', 'DavidPinker'), ('Tennis Court 2', 'DavidFarrell'), ('Tennis Court 2', 'DavidJones'), ('Tennis Court 1', 'DouglasJones'), ('Tennis Court 1', 'EricaCrumpet'), ('Tennis Court 1', 'FlorenceBader'), ('Tennis Court 2', 'FlorenceBader'), ('Tennis Court 1', 'GUESTGUEST'), ('Tennis Court 2', 'GUESTGUEST'), ('Tennis Court 1', 'GeraldButters'), ('Tennis Court 2', 'GeraldButters'), ('Tennis Court 2', 'HenriettaRumney'), ('Tennis Court 1', 'JackSmith'), ('Tennis Court 2', 'JackSmith'), ('Tennis Court 1', 'JaniceJoplette'), ('Tennis Court 2', 'JaniceJoplette'), ('Tennis Court 1', 'JemimaFarrell'), ('Tennis Court 2', 'JemimaFarrell'), ('Tennis Court 1', 'JoanCoplin'), ('Tennis Court 1', 'JohnHunt'), ('Tennis Court 2', 'JohnHunt'), ('Tennis Court 1', 'MatthewGenting'), ('Tennis Court 2', 'MillicentPurview'), ('Tennis Court 1', 'NancyDare'), ('Tennis Court 2', 'NancyDare'), ('Tennis Court 1', 'PonderStibbons'), ('Tennis Court 2', 'PonderStibbons'), ('Tennis Court 1', 'RamnareshSarwin'), ('Tennis Court 2', 'RamnareshSarwin'), ('Tennis Court 1', 'TimBoothe'), ('Tennis Court 1', 'TimRownam'), ('Tennis Court 2', 'TimBoothe'), ('Tennis Court 2', 'TimRownam'), ('Tennis Court 1', 'TimothyBaker'), ('Tennis Court 2', 'TimothyBaker'), ('Tennis Court 1', 'TracySmith'), ('Tennis Court 2', 'TracySmith')]\n"
     ]
    }
   ],
   "source": [
    "#/* Q7: How can you produce a list of all members who have used a tennis court?\n",
    "#Include in your output the name of the court, and the name of the member\n",
    "#formatted as a single column. Ensure no duplicate data, and order by\n",
    "#the member name. */\n",
    "sql_cmd6=\"\"\"SELECT Facilities.name, (Members.firstname || Members.surname) AS member_name\n",
    "FROM Bookings\n",
    "INNER JOIN Members ON Bookings.memid = Members.memid\n",
    "INNER JOIN Facilities ON Bookings.facid = Facilities.facid\n",
    "WHERE Facilities.name LIKE 'Tennis Court%'\n",
    "GROUP BY Facilities.name, Members.firstname, Members.surname\n",
    "ORDER BY Members.firstname\"\"\"\n",
    "rs = con.execute(sql_cmd6)\n",
    "print (rs.fetchall())"
   ]
  },
  {
   "cell_type": "code",
   "execution_count": 10,
   "metadata": {},
   "outputs": [
    {
     "name": "stdout",
     "output_type": "stream",
     "text": [
      "[('Massage Room 2', 'GUESTGUEST', 320.0), ('Massage Room 1', 'GUESTGUEST', 160.0), ('Massage Room 1', 'GUESTGUEST', 160.0), ('Massage Room 1', 'GUESTGUEST', 160.0), ('Tennis Court 2', 'GUESTGUEST', 150.0), ('Tennis Court 1', 'GUESTGUEST', 75.0), ('Tennis Court 1', 'GUESTGUEST', 75.0), ('Tennis Court 2', 'GUESTGUEST', 75.0), ('Squash Court', 'GUESTGUEST', 70.0), ('Massage Room 1', 'JemimaFarrell', 39.6), ('Squash Court', 'GUESTGUEST', 35.0), ('Squash Court', 'GUESTGUEST', 35.0)]\n"
     ]
    }
   ],
   "source": [
    "\n",
    "#/* Q8: How can you produce a list of bookings on the day of 2012-09-14 which\n",
    "#will cost the member (or guest) more than $30? Remember that guests have\n",
    "#different costs to members (the listed costs are per half-hour 'slot'), and\n",
    "#the guest user's ID is always 0. Include in your output the name of the\n",
    "#facility, the name of the member formatted as a single column, and the cost.\n",
    "#Order by descending cost, and do not use any subqueries. */\n",
    "sql_cmd7=\"\"\"SELECT Facilities.name,\n",
    "  (Members.firstname || Members.surname) AS member_name,\n",
    "  CASE WHEN (SELECT CAST(Members.memid as int)) !=0\n",
    "    THEN (SELECT CAST(Bookings.slots as float)) * (SELECT CAST(Facilities.membercost as float))\n",
    "    ELSE (SELECT CAST(Bookings.slots as float)) * (SELECT CAST(Facilities.guestcost as float))\n",
    "    END AS booking_cost\n",
    "FROM Bookings\n",
    "INNER JOIN Members ON Bookings.memid = Members.memid\n",
    "INNER JOIN Facilities ON Bookings.facid = Facilities.facid\n",
    "WHERE Bookings.starttime LIKE '2012-09-14%'\n",
    "  AND(\n",
    "    (SELECT CAST(Bookings.memid as float)) != 0 AND (SELECT CAST(Bookings.slots as float)) * (SELECT CAST(Facilities.membercost as float)) > 30.0\n",
    "    OR (SELECT CAST(Bookings.memid as float)) = 0 AND (SELECT CAST(Bookings.slots as float)) * (SELECT CAST(Facilities.guestcost as float)) > 30.0\n",
    "  )\n",
    "ORDER BY booking_cost DESC\"\"\"\n",
    "rs = con.execute(sql_cmd7)\n",
    "print (rs.fetchall())"
   ]
  },
  {
   "cell_type": "code",
   "execution_count": 11,
   "metadata": {},
   "outputs": [
    {
     "name": "stdout",
     "output_type": "stream",
     "text": [
      "[('Massage Room 2', 'GUESTGUEST', 320.0), ('Massage Room 1', 'GUESTGUEST', 160.0), ('Massage Room 1', 'GUESTGUEST', 160.0), ('Massage Room 1', 'GUESTGUEST', 160.0), ('Tennis Court 2', 'GUESTGUEST', 150.0), ('Tennis Court 1', 'GUESTGUEST', 75.0), ('Tennis Court 1', 'GUESTGUEST', 75.0), ('Tennis Court 2', 'GUESTGUEST', 75.0), ('Squash Court', 'GUESTGUEST', 70.0), ('Massage Room 1', 'JemimaFarrell', 39.6), ('Squash Court', 'GUESTGUEST', 35.0), ('Squash Court', 'GUESTGUEST', 35.0)]\n"
     ]
    }
   ],
   "source": [
    "\n",
    "#/* Q9: This time, produce the same result as in Q8, but using a subquery. */\n",
    "\n",
    "sql_cmd8=\"\"\"SELECT *\n",
    "FROM (\n",
    "  SELECT Facilities.name,\n",
    "  (Members.firstname || Members.surname) AS member_name,\n",
    "  CASE WHEN (SELECT CAST(Members.memid as int)) !=0\n",
    "    THEN (SELECT CAST(Bookings.slots as float)) * (SELECT CAST(Facilities.membercost as float))\n",
    "    ELSE (SELECT CAST(Bookings.slots as float)) * (SELECT CAST (Facilities.guestcost as float))\n",
    "    END AS booking_cost\n",
    "  FROM Bookings\n",
    "  INNER JOIN Members ON Bookings.memid = Members.memid\n",
    "  INNER JOIN Facilities ON Bookings.facid = Facilities.facid\n",
    "  WHERE Bookings.starttime LIKE '2012-09-14%'\n",
    "  ) sub\n",
    "WHERE (SELECT CAST(sub.booking_cost as float)) > 30.0\n",
    "ORDER BY sub.booking_cost DESC\"\"\"\n",
    "rs = con.execute(sql_cmd8)\n",
    "print (rs.fetchall())"
   ]
  },
  {
   "cell_type": "code",
   "execution_count": 12,
   "metadata": {},
   "outputs": [
    {
     "name": "stdout",
     "output_type": "stream",
     "text": [
      "[('Table Tennis', 180.0), ('Snooker Table', 240.0), ('Pool Table', 270.0)]\n"
     ]
    }
   ],
   "source": [
    "#/* Q10: Produce a list of facilities with a total revenue less than 1000.\n",
    "#The output of facility name and total revenue, sorted by revenue. Remember\n",
    "#that there's a different cost for guests and members! */\n",
    "\n",
    "sql_cmd9=\"\"\"SELECT facility, total_revenue\n",
    "FROM (\n",
    "  SELECT Facilities.name AS facility,\n",
    "  SUM(\n",
    "    CASE WHEN (SELECT CAST(Bookings.memid as int)) !=0\n",
    "    THEN (SELECT CAST(Bookings.slots as float)) * (SELECT CAST (Facilities.membercost as float))\n",
    "    ELSE (SELECT CAST(Bookings.slots as float)) * (SELECT CAST(Facilities.guestcost as float)) END) AS total_revenue\n",
    "  FROM Facilities\n",
    "  INNER JOIN Bookings ON Bookings.facid = Facilities.facid\n",
    "  GROUP BY Facilities.name\n",
    ") AS facility_total_revenue\n",
    "WHERE total_revenue < 1000\n",
    "ORDER BY total_revenue\"\"\"\n",
    "\n",
    "rs = con.execute(sql_cmd9)\n",
    "print (rs.fetchall())"
   ]
  },
  {
   "cell_type": "code",
   "execution_count": null,
   "metadata": {},
   "outputs": [],
   "source": []
  },
  {
   "cell_type": "code",
   "execution_count": null,
   "metadata": {},
   "outputs": [],
   "source": []
  },
  {
   "cell_type": "code",
   "execution_count": null,
   "metadata": {},
   "outputs": [],
   "source": []
  }
 ],
 "metadata": {
  "kernelspec": {
   "display_name": "Python 2",
   "language": "python",
   "name": "python2"
  },
  "language_info": {
   "codemirror_mode": {
    "name": "ipython",
    "version": 3
   },
   "file_extension": ".py",
   "mimetype": "text/x-python",
   "name": "python",
   "nbconvert_exporter": "python",
   "pygments_lexer": "ipython3",
   "version": "3.6.9"
  }
 },
 "nbformat": 4,
 "nbformat_minor": 2
}
